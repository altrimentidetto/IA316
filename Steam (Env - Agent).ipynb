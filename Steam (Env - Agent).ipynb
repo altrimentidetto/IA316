{
 "cells": [
  {
   "cell_type": "code",
   "execution_count": 1,
   "metadata": {
    "colab": {
     "base_uri": "https://localhost:8080/",
     "height": 51
    },
    "colab_type": "code",
    "id": "U9XjF2vrHfBO",
    "outputId": "222121d7-5359-45b1-f5b9-101ee0516c7c"
   },
   "outputs": [
    {
     "name": "stdout",
     "output_type": "stream",
     "text": [
      "2.0.0\n"
     ]
    }
   ],
   "source": [
    "# Basic import\n",
    "%matplotlib inline\n",
    "\n",
    "import matplotlib.pyplot as plt\n",
    "import numpy as np\n",
    "from copy import deepcopy, copy\n",
    "from scipy.stats import norm\n",
    "import pdb\n",
    "import tensorflow as tf\n",
    "from tensorflow.keras.layers import Embedding, Flatten, Dense, Dropout, Dot, Concatenate\n",
    "from tensorflow.keras.models import Model\n",
    "tf.config.experimental_run_functions_eagerly(True)\n",
    "print(tf.__version__)"
   ]
  },
  {
   "cell_type": "markdown",
   "metadata": {
    "colab_type": "text",
    "id": "j2D0q-2bHfBU"
   },
   "source": [
    "# Environment"
   ]
  },
  {
   "cell_type": "code",
   "execution_count": 2,
   "metadata": {
    "colab": {},
    "colab_type": "code",
    "id": "cxBqWhxSHfBV"
   },
   "outputs": [],
   "source": [
    "class Environment:\n",
    "    def __init__(self, nb_films, nb_users, \n",
    "                 context_size = 2,\n",
    "                 displayed_users_embedding_size = 2, #used for the features vector\n",
    "                 displayed_games_embedding_size = 2, #used for the features vector\n",
    "                 noise_size = 3,\n",
    "                 rating_probability = 0.5,\n",
    "                 std_dev_playtime = 0.15,\n",
    "                 refund_threshold = 0.1,\n",
    "                 seed=None):     \n",
    "        self._rng = np.random.RandomState(seed)\n",
    "        self._rating_probability = rating_probability \n",
    "        self._std_dev_playtime = std_dev_playtime\n",
    "        self._refund_threshold = refund_threshold\n",
    "        #-------------------------------------------------------#\n",
    "        self._nb_games = nb_games\n",
    "        self._nb_users = nb_users\n",
    "        self._p = context_size # size of user, size of game\n",
    "        self._displayed_users_embedding_size = displayed_users_embedding_size\n",
    "        self._displayed_games_embedding_size = displayed_games_embedding_size\n",
    "        self._noise_size = noise_size\n",
    "        #-------------------------------------------------------\n",
    "        self.user_mean = np.ones(self._p)\n",
    "        self.user_var = np.ones(self._p)\n",
    "        self.game_mean = np.ones(self._p)\n",
    "        self.game_var = np.ones(self._p)\n",
    "        #-------------------------------------------------------#\n",
    "        self.finish = False # True = all games have been played\n",
    "    \n",
    "    def step(self):\n",
    "        if self.finish == True or self._available_games.sum() == 0: \n",
    "            # all players played all games\n",
    "            self.finish = True\n",
    "            print(\"All games played reset the environment\")\n",
    "            return 0, 0, self.finish\n",
    "        \n",
    "        user = self.get_next_user() # pick a user\n",
    "        available_games = np.where(self._available_games[user] == 1)[0]\n",
    "        optimal_reward = np.max(self._reward_matrix[user,available_games])\n",
    "        return user, available_games, optimal_reward, self.finish\n",
    "    \n",
    "    def get_next_user(self):\n",
    "        user = self._rng.randint(0, self._nb_users)\n",
    "        if np.sum(self._available_games[user,:]) > 0: \n",
    "            # still some games to play for user\n",
    "            return user\n",
    "        else: \n",
    "            # all games played for the current user\n",
    "            # find a random player between the ones who have some games left to play\n",
    "            row,cols = np.where(self._available_games == 1)\n",
    "            return self._rng.choice(row)\n",
    "    \n",
    "    def update(self, user, game):\n",
    "        reward = self._reward_matrix[user, game]\n",
    "        self._available_games[user, game] = 0\n",
    "        return reward\n",
    "    \n",
    "    def reset(self):\n",
    "        self.finish = False\n",
    "        self._users = self._rng.normal(loc=self.user_mean,\n",
    "                                                scale=self.user_var,\n",
    "                                                size=(self._nb_users, self._p))\n",
    "        self._games = self._rng.normal(loc=self.game_mean,\n",
    "                                                scale=self.game_var,\n",
    "                                                size=(self._nb_games, self._p))\n",
    "        \n",
    "        z_mean = self.user_mean.dot(self.game_mean)\n",
    "        z_var = self.user_var.dot(self.game_var) + self.user_var.dot(np.square(self.game_mean)) + \\\n",
    "                self.game_var.dot(np.square(self.user_mean))\n",
    "        z = norm(z_mean, np.sqrt(z_var))\n",
    "        self.z_cut_points = z.ppf([0.2, 0.4, 0.6, 0.8]) # buckets\n",
    "        \n",
    "        self._available_games = np.ones((nb_users, nb_games))\n",
    "        # rating generation based on (user ∙ game)\n",
    "        self._rating_matrix = np.zeros((nb_users, nb_games))     \n",
    "        for i in range(self._rating_matrix.shape[0]):\n",
    "            for j in range(self._rating_matrix.shape[1]):\n",
    "                real_score = self._users[i].dot(self._games[j])\n",
    "                self._rating_matrix[i, j] = np.searchsorted(self.z_cut_points, real_score) / 4\n",
    "        # playtime generation\n",
    "        # for simulation purposes, such playtime (always > 0) is based on the similarity \n",
    "        # between the user profile and the game (i.e. like a reward) + some noise\n",
    "        # and some non-linear function (i.e. abs + clip)\n",
    "        self._playtime_matrix = deepcopy(self._rating_matrix)\n",
    "        self._playtime_matrix += self._rng.normal(loc = 0.0, scale = self._std_dev_playtime, size = (nb_users, nb_games))\n",
    "        self._playtime_matrix = np.clip(np.abs(self._playtime_matrix), 0, 1)\n",
    "        # reward matrix generation\n",
    "        self._reward_matrix = np.zeros((nb_users, nb_games))\n",
    "        self._rated = self._rng.binomial(1, self._rating_probability, size=(nb_users, nb_games))\n",
    "        for i in range(self._reward_matrix.shape[0]):\n",
    "            for j in range(self._reward_matrix.shape[1]):\n",
    "                if self._playtime_matrix[i, j] < self._refund_threshold:\n",
    "                    self._reward_matrix[i, j] = 0\n",
    "                else:\n",
    "                    if self._rated[i, j] == 1:\n",
    "                        self._reward_matrix[i, j] = self._rating_matrix[i, j]\n",
    "                    else:\n",
    "                        self._reward_matrix[i, j] = self._playtime_matrix[i, j] / np.sum(self._playtime_matrix[i, :])\n",
    "        users = deepcopy(self._users)\n",
    "        return users\n",
    "\n",
    "    def get_feature_vector(self, user, game):\n",
    "        user_embedding = self._users[user]\n",
    "        game_embedding = self._games[game]\n",
    "        \n",
    "        if self._displayed_users_embedding_size + self._displayed_games_embedding_size > 0:\n",
    "            variables = np.array([user_embedding[:self._displayed_users_embedding_size],\n",
    "                                  game_embedding[:self._displayed_games_embedding_size]])\n",
    "\n",
    "            if self._noise_size > 0:\n",
    "                noise = self._rng.normal(loc=np.ones(self._noise_size),\n",
    "                                         scale=np.ones(self._noise_size),\n",
    "                                         size=self._noise_size)\n",
    "                \n",
    "                variables = np.append(variables, noise)\n",
    "                \n",
    "        return variables\n",
    "        \n",
    "        \n",
    "    def reset_seed(self, seed=None):\n",
    "        self._rng = np.random.RandomState(seed)\n",
    "        return"
   ]
  },
  {
   "cell_type": "markdown",
   "metadata": {
    "colab_type": "text",
    "id": "d_AP39ksHfBZ"
   },
   "source": [
    "# Historical data generation"
   ]
  },
  {
   "cell_type": "markdown",
   "metadata": {
    "colab_type": "text",
    "id": "8IpMHyWXHfBb"
   },
   "source": [
    "## Random agent"
   ]
  },
  {
   "cell_type": "code",
   "execution_count": 3,
   "metadata": {
    "colab": {},
    "colab_type": "code",
    "id": "mRiPqe-iHfBc"
   },
   "outputs": [],
   "source": [
    "class RandomAgent:\n",
    "    def __init__(self, seed = None):\n",
    "        self._rng = np.random.RandomState(seed)\n",
    "    \n",
    "    def act(self, available_games):\n",
    "        action = self._rng.choice(available_games)\n",
    "        return action"
   ]
  },
  {
   "cell_type": "markdown",
   "metadata": {
    "colab_type": "text",
    "id": "PtwQc69jHfBg"
   },
   "source": [
    "## Experiment"
   ]
  },
  {
   "cell_type": "code",
   "execution_count": 4,
   "metadata": {
    "colab": {},
    "colab_type": "code",
    "id": "EMg14qWuHfBh"
   },
   "outputs": [],
   "source": [
    "# global parameters\n",
    "nb_users = 50 # number of users in the context = 30\n",
    "nb_games = 20 # number of games in the context = 10\n",
    "context_size = 10 # number of different game categories = 2\n",
    "agents = dict()"
   ]
  },
  {
   "cell_type": "code",
   "execution_count": 5,
   "metadata": {
    "colab": {},
    "colab_type": "code",
    "id": "VWno3W38HfBk",
    "scrolled": true
   },
   "outputs": [],
   "source": [
    "# creating the environment\n",
    "env = Environment(nb_games,nb_users,context_size,seed=2020,rating_probability=0.8,std_dev_playtime=0.15)\n",
    "env.reset() # reset and initilize the environment\n",
    "prev_env = deepcopy(env)"
   ]
  },
  {
   "cell_type": "code",
   "execution_count": 6,
   "metadata": {
    "colab": {},
    "colab_type": "code",
    "id": "sBt38IzAHfBp"
   },
   "outputs": [],
   "source": [
    "# Creating the agent\n",
    "agent = RandomAgent(2020)"
   ]
  },
  {
   "cell_type": "code",
   "execution_count": 7,
   "metadata": {
    "colab": {
     "base_uri": "https://localhost:8080/",
     "height": 1000
    },
    "colab_type": "code",
    "id": "67t1s14GHfBs",
    "outputId": "d3d2ae91-38f7-4272-8094-84bc08069227",
    "scrolled": true
   },
   "outputs": [],
   "source": [
    "# Running several trials\n",
    "nb_iteration = 300 #how many trials\n",
    "reward_matrix = np.zeros((nb_users, nb_games))\n",
    "rating_matrix = np.zeros((nb_users, nb_games))\n",
    "users = list()\n",
    "games = list()\n",
    "rewards = list()\n",
    "for i in range(nb_iteration):\n",
    "    user, available_games, _, finish = env.step()\n",
    "    if finish:\n",
    "        print(\"Maybe too many trial try to reduce and reset the environment\")\n",
    "        break\n",
    "    choosen_game = agent.act(available_games)\n",
    "    reward = env.update(user, choosen_game)\n",
    "    users.append(user)\n",
    "    games.append(choosen_game)\n",
    "    rewards.append(reward)\n",
    "    reward_matrix[user, choosen_game] = reward\n",
    "    # print(\"user = {}, available games = {}, choosen_game = {}\".format(user,available_games,choosen_game))\n",
    "    # print(\"reward = {}\\n\".format(reward))"
   ]
  },
  {
   "cell_type": "code",
   "execution_count": 8,
   "metadata": {
    "colab": {
     "base_uri": "https://localhost:8080/",
     "height": 289
    },
    "colab_type": "code",
    "id": "xNh6JKL6HfBx",
    "outputId": "e0af4f5c-eac0-4ab8-af84-74390e1041e7",
    "scrolled": true
   },
   "outputs": [
    {
     "name": "stdout",
     "output_type": "stream",
     "text": [
      "reward matrix: \n",
      " [[0.         0.         0.         0.         0.         0.\n",
      "  0.         0.         0.         0.         0.         0.\n",
      "  0.         0.         0.         0.         0.         0.\n",
      "  0.         0.        ]\n",
      " [0.         0.         0.         0.         0.         0.06990466\n",
      "  0.         0.         0.         0.         0.75       0.\n",
      "  0.         0.         0.         0.         0.         0.\n",
      "  0.         0.        ]\n",
      " [0.         0.         0.         0.         0.         0.0505682\n",
      "  0.         0.         0.         0.         0.5        0.1059045\n",
      "  0.         0.         0.         0.02988088 0.25       0.75\n",
      "  0.         0.5       ]\n",
      " [0.         1.         1.         0.5        1.         1.\n",
      "  0.75       0.5        0.5        0.5        0.         0.\n",
      "  0.         1.         0.         0.         0.         0.\n",
      "  0.         0.        ]\n",
      " [0.25       0.         0.5        0.         0.         0.\n",
      "  0.0877145  0.         0.         0.02620082 0.         0.25\n",
      "  0.         0.         0.         0.         0.         0.\n",
      "  0.         0.        ]\n",
      " [0.         0.         0.         0.         0.         0.\n",
      "  0.75       0.         0.         0.         0.         1.\n",
      "  0.         0.         0.         0.         0.         0.75\n",
      "  0.         0.        ]\n",
      " [0.         0.         0.         0.         0.         0.\n",
      "  0.         0.         0.         0.         0.         0.75\n",
      "  0.         0.75       0.         0.         0.         0.\n",
      "  0.         0.        ]\n",
      " [0.         0.         0.75       0.         0.         0.\n",
      "  0.         0.         0.         0.03206198 0.         0.5\n",
      "  0.5        0.75       0.         0.         0.         0.\n",
      "  0.         0.        ]\n",
      " [0.         0.5        1.         0.         0.         0.\n",
      "  0.         0.         0.25       0.         0.         0.07555129\n",
      "  0.         0.         0.         0.         0.75       0.\n",
      "  1.         0.        ]\n",
      " [0.25       0.         1.         0.         0.         1.\n",
      "  0.         1.         0.         0.         0.5        0.25\n",
      "  0.         0.         0.         0.         0.75       0.\n",
      "  0.09312977 0.        ]\n",
      " [0.         0.         0.         0.         0.         0.\n",
      "  0.         0.         0.         0.         0.25       0.\n",
      "  0.         0.         0.         0.         0.         0.\n",
      "  0.         0.        ]\n",
      " [0.         0.         0.         0.         0.         0.\n",
      "  0.         0.         0.         0.         0.         0.\n",
      "  0.         0.         0.         0.         0.         0.5\n",
      "  0.         0.25      ]\n",
      " [0.         0.5        0.         0.         0.75       0.5\n",
      "  0.         0.         0.         0.25       0.         0.\n",
      "  0.         0.08574133 0.5        0.         0.05730752 0.\n",
      "  1.         0.        ]\n",
      " [0.         0.02953037 0.         0.         0.25       0.\n",
      "  0.         0.         0.         0.         1.         0.\n",
      "  0.09394652 1.         0.5        0.0144972  0.         0.75\n",
      "  1.         0.        ]\n",
      " [0.         0.         0.         0.         0.         0.\n",
      "  0.         0.         0.         0.         0.         0.\n",
      "  0.         0.         0.         0.         0.         0.\n",
      "  0.         0.        ]\n",
      " [0.         0.         1.         0.25       0.         0.\n",
      "  0.         0.25       0.         0.         0.04738628 1.\n",
      "  0.         0.         0.25       0.5        0.         0.25\n",
      "  0.08301164 0.75      ]\n",
      " [0.         0.         0.         0.         0.5        0.\n",
      "  0.25       0.         0.         0.         0.08772278 1.\n",
      "  0.         0.         0.25       0.5        0.5        0.25\n",
      "  0.         0.        ]\n",
      " [0.         0.05521366 0.         0.         0.5        0.\n",
      "  0.         0.         0.         0.         0.         0.\n",
      "  1.         0.08298889 0.         0.         0.         0.\n",
      "  0.         0.        ]\n",
      " [0.         0.         0.         0.         0.         0.75\n",
      "  0.         0.         0.         0.         0.         0.\n",
      "  0.         0.5        0.         0.         0.         0.\n",
      "  0.         0.        ]\n",
      " [0.         0.5        0.02669152 0.         0.         0.\n",
      "  0.5        0.         0.         0.         0.         1.\n",
      "  0.         0.         0.         0.         0.         1.\n",
      "  0.         0.        ]\n",
      " [0.         0.03175692 0.         0.         0.         0.75\n",
      "  0.         0.08266127 0.25       0.25       0.         0.\n",
      "  0.         0.         0.25       0.         0.25       0.\n",
      "  0.10235864 0.        ]\n",
      " [0.         0.         0.         0.         0.         0.\n",
      "  0.         0.0238302  0.         0.         0.         0.\n",
      "  0.         0.         0.         0.         0.         0.\n",
      "  1.         0.        ]\n",
      " [0.25       0.         0.         0.         0.         0.5\n",
      "  0.         0.         0.         0.         0.         0.\n",
      "  0.         0.         0.10881942 0.         0.25       0.\n",
      "  0.         0.        ]\n",
      " [0.         0.         0.5        0.         0.         0.75\n",
      "  0.         0.         0.         0.         0.         0.\n",
      "  0.         0.         0.         0.         0.25       0.\n",
      "  0.         0.        ]\n",
      " [0.         0.         0.         0.25       0.         0.\n",
      "  0.         0.         0.         0.         0.         0.\n",
      "  1.         0.         0.         0.         0.         0.\n",
      "  0.         0.        ]\n",
      " [0.         0.         0.         0.         0.         0.\n",
      "  0.         0.         0.5        0.         0.         0.75\n",
      "  0.         0.         0.25       0.         0.         0.\n",
      "  0.         0.        ]\n",
      " [0.         0.         0.         0.         0.         0.\n",
      "  0.         0.         0.         0.         0.         0.12887717\n",
      "  0.5        0.02262319 0.         0.         0.         0.\n",
      "  0.         0.        ]\n",
      " [0.01886188 0.5        1.         0.5        0.75       0.75\n",
      "  0.         0.03977252 0.         0.         0.         0.\n",
      "  0.0791918  0.         0.         0.         0.         0.\n",
      "  0.         0.75      ]\n",
      " [0.         0.         1.         0.         0.25       0.\n",
      "  0.5        0.         0.25       0.         0.         0.\n",
      "  0.         0.         0.         0.         0.         0.08359451\n",
      "  0.         0.        ]\n",
      " [0.0231791  0.         0.         0.04220525 0.         0.\n",
      "  0.         0.         0.         0.         0.         0.\n",
      "  0.         0.         0.         0.         0.         0.\n",
      "  0.         0.        ]\n",
      " [0.         0.25       0.         0.         0.         0.\n",
      "  0.         0.         0.         0.         0.         0.\n",
      "  0.         0.5        0.25       0.         0.         0.\n",
      "  0.         0.        ]\n",
      " [0.         0.         0.         0.         0.5        0.\n",
      "  0.25       0.         0.         0.         0.         0.\n",
      "  0.         0.         0.5        0.         0.5        0.\n",
      "  0.10333316 0.        ]\n",
      " [0.         0.5        0.         0.         0.         0.75\n",
      "  0.         0.5        0.         0.         0.5        0.\n",
      "  0.         0.         0.         0.         0.         0.\n",
      "  0.         0.        ]\n",
      " [0.         0.         0.         0.         0.         0.\n",
      "  0.         0.         0.         0.         0.         0.\n",
      "  0.         0.         0.         0.         0.         0.\n",
      "  0.         0.        ]\n",
      " [0.         0.5        1.         0.         0.         0.\n",
      "  0.75       0.         0.02254016 0.         0.04636778 0.\n",
      "  0.         0.         0.5        0.02846171 0.         0.\n",
      "  0.         0.        ]\n",
      " [0.         0.         0.         0.         0.         1.\n",
      "  0.         0.         0.25       0.         0.         1.\n",
      "  0.         0.         0.         0.         0.75       0.\n",
      "  0.         0.        ]\n",
      " [0.         0.         0.5        0.         0.5        0.\n",
      "  0.         0.25       0.         0.         0.25       0.75\n",
      "  0.         0.         0.         0.         0.02527028 0.5\n",
      "  0.         0.75      ]\n",
      " [0.         0.         0.         0.         0.         0.\n",
      "  0.         0.         0.         0.25       0.         0.\n",
      "  0.         0.75       0.         0.         0.5        0.02519847\n",
      "  0.         0.        ]\n",
      " [0.         0.         0.         0.04456336 0.75       0.\n",
      "  0.         0.5        0.         0.         0.         0.\n",
      "  0.         0.         0.         0.         0.         0.\n",
      "  0.         0.        ]\n",
      " [0.         0.         0.         0.         0.         0.\n",
      "  0.         0.         0.5        0.         0.03316698 1.\n",
      "  0.         0.         0.05235763 0.         0.         0.\n",
      "  0.         0.        ]\n",
      " [0.         0.         0.         0.         0.         0.\n",
      "  0.         0.         0.         0.5        0.         0.\n",
      "  0.         0.         0.         0.         0.         0.\n",
      "  0.         0.        ]\n",
      " [0.         0.75       0.         0.         0.         0.\n",
      "  0.         0.         0.         0.03334284 0.04872372 0.\n",
      "  0.         1.         0.         0.         0.         0.00911709\n",
      "  0.         0.        ]\n",
      " [0.         0.         0.         0.         0.         0.\n",
      "  0.         0.         0.         0.         0.         0.\n",
      "  0.         0.         0.         0.         0.         0.\n",
      "  0.75       0.        ]\n",
      " [0.5        0.         0.         0.5        0.         0.\n",
      "  0.         0.         0.         0.         0.         0.\n",
      "  0.         0.         0.         0.         0.         0.\n",
      "  1.         0.        ]\n",
      " [0.         0.         0.         0.         0.         0.\n",
      "  0.         0.75       0.         0.         1.         0.\n",
      "  0.         0.07995877 0.25       0.         0.5        0.\n",
      "  1.         0.        ]\n",
      " [0.         0.25       0.         0.         0.5        0.\n",
      "  0.         0.5        0.         0.         0.         0.\n",
      "  0.         0.         0.         0.         0.         0.\n",
      "  0.         0.        ]\n",
      " [0.5        0.         0.         0.         0.         0.\n",
      "  0.         0.03845122 0.         0.         0.         0.\n",
      "  0.         0.         0.         0.25       0.03987236 0.\n",
      "  1.         0.        ]\n",
      " [0.         0.         0.         0.         0.25       0.\n",
      "  0.         0.         0.         0.5        0.         0.\n",
      "  0.         0.         0.5        0.         0.5        0.0239882\n",
      "  1.         0.5       ]\n",
      " [0.         0.         0.5        0.         0.         0.\n",
      "  0.10020488 0.         0.         0.         0.         0.\n",
      "  0.         0.25       0.         0.         0.         0.\n",
      "  0.25       0.        ]\n",
      " [0.         0.         0.         0.         0.         0.\n",
      "  0.         0.         0.         0.5        0.5        0.5\n",
      "  0.         0.         0.         0.         0.25       0.\n",
      "  0.         0.25      ]]\n",
      "rating matrix: \n",
      " [[0. 0. 0. 0. 0. 0. 0. 0. 0. 0. 0. 0. 0. 0. 0. 0. 0. 0. 0. 0.]\n",
      " [0. 0. 0. 0. 0. 0. 0. 0. 0. 0. 0. 0. 0. 0. 0. 0. 0. 0. 0. 0.]\n",
      " [0. 0. 0. 0. 0. 0. 0. 0. 0. 0. 0. 0. 0. 0. 0. 0. 0. 0. 0. 0.]\n",
      " [0. 0. 0. 0. 0. 0. 0. 0. 0. 0. 0. 0. 0. 0. 0. 0. 0. 0. 0. 0.]\n",
      " [0. 0. 0. 0. 0. 0. 0. 0. 0. 0. 0. 0. 0. 0. 0. 0. 0. 0. 0. 0.]\n",
      " [0. 0. 0. 0. 0. 0. 0. 0. 0. 0. 0. 0. 0. 0. 0. 0. 0. 0. 0. 0.]\n",
      " [0. 0. 0. 0. 0. 0. 0. 0. 0. 0. 0. 0. 0. 0. 0. 0. 0. 0. 0. 0.]\n",
      " [0. 0. 0. 0. 0. 0. 0. 0. 0. 0. 0. 0. 0. 0. 0. 0. 0. 0. 0. 0.]\n",
      " [0. 0. 0. 0. 0. 0. 0. 0. 0. 0. 0. 0. 0. 0. 0. 0. 0. 0. 0. 0.]\n",
      " [0. 0. 0. 0. 0. 0. 0. 0. 0. 0. 0. 0. 0. 0. 0. 0. 0. 0. 0. 0.]\n",
      " [0. 0. 0. 0. 0. 0. 0. 0. 0. 0. 0. 0. 0. 0. 0. 0. 0. 0. 0. 0.]\n",
      " [0. 0. 0. 0. 0. 0. 0. 0. 0. 0. 0. 0. 0. 0. 0. 0. 0. 0. 0. 0.]\n",
      " [0. 0. 0. 0. 0. 0. 0. 0. 0. 0. 0. 0. 0. 0. 0. 0. 0. 0. 0. 0.]\n",
      " [0. 0. 0. 0. 0. 0. 0. 0. 0. 0. 0. 0. 0. 0. 0. 0. 0. 0. 0. 0.]\n",
      " [0. 0. 0. 0. 0. 0. 0. 0. 0. 0. 0. 0. 0. 0. 0. 0. 0. 0. 0. 0.]\n",
      " [0. 0. 0. 0. 0. 0. 0. 0. 0. 0. 0. 0. 0. 0. 0. 0. 0. 0. 0. 0.]\n",
      " [0. 0. 0. 0. 0. 0. 0. 0. 0. 0. 0. 0. 0. 0. 0. 0. 0. 0. 0. 0.]\n",
      " [0. 0. 0. 0. 0. 0. 0. 0. 0. 0. 0. 0. 0. 0. 0. 0. 0. 0. 0. 0.]\n",
      " [0. 0. 0. 0. 0. 0. 0. 0. 0. 0. 0. 0. 0. 0. 0. 0. 0. 0. 0. 0.]\n",
      " [0. 0. 0. 0. 0. 0. 0. 0. 0. 0. 0. 0. 0. 0. 0. 0. 0. 0. 0. 0.]\n",
      " [0. 0. 0. 0. 0. 0. 0. 0. 0. 0. 0. 0. 0. 0. 0. 0. 0. 0. 0. 0.]\n",
      " [0. 0. 0. 0. 0. 0. 0. 0. 0. 0. 0. 0. 0. 0. 0. 0. 0. 0. 0. 0.]\n",
      " [0. 0. 0. 0. 0. 0. 0. 0. 0. 0. 0. 0. 0. 0. 0. 0. 0. 0. 0. 0.]\n",
      " [0. 0. 0. 0. 0. 0. 0. 0. 0. 0. 0. 0. 0. 0. 0. 0. 0. 0. 0. 0.]\n",
      " [0. 0. 0. 0. 0. 0. 0. 0. 0. 0. 0. 0. 0. 0. 0. 0. 0. 0. 0. 0.]\n",
      " [0. 0. 0. 0. 0. 0. 0. 0. 0. 0. 0. 0. 0. 0. 0. 0. 0. 0. 0. 0.]\n",
      " [0. 0. 0. 0. 0. 0. 0. 0. 0. 0. 0. 0. 0. 0. 0. 0. 0. 0. 0. 0.]\n",
      " [0. 0. 0. 0. 0. 0. 0. 0. 0. 0. 0. 0. 0. 0. 0. 0. 0. 0. 0. 0.]\n",
      " [0. 0. 0. 0. 0. 0. 0. 0. 0. 0. 0. 0. 0. 0. 0. 0. 0. 0. 0. 0.]\n",
      " [0. 0. 0. 0. 0. 0. 0. 0. 0. 0. 0. 0. 0. 0. 0. 0. 0. 0. 0. 0.]\n",
      " [0. 0. 0. 0. 0. 0. 0. 0. 0. 0. 0. 0. 0. 0. 0. 0. 0. 0. 0. 0.]\n",
      " [0. 0. 0. 0. 0. 0. 0. 0. 0. 0. 0. 0. 0. 0. 0. 0. 0. 0. 0. 0.]\n",
      " [0. 0. 0. 0. 0. 0. 0. 0. 0. 0. 0. 0. 0. 0. 0. 0. 0. 0. 0. 0.]\n",
      " [0. 0. 0. 0. 0. 0. 0. 0. 0. 0. 0. 0. 0. 0. 0. 0. 0. 0. 0. 0.]\n",
      " [0. 0. 0. 0. 0. 0. 0. 0. 0. 0. 0. 0. 0. 0. 0. 0. 0. 0. 0. 0.]\n",
      " [0. 0. 0. 0. 0. 0. 0. 0. 0. 0. 0. 0. 0. 0. 0. 0. 0. 0. 0. 0.]\n",
      " [0. 0. 0. 0. 0. 0. 0. 0. 0. 0. 0. 0. 0. 0. 0. 0. 0. 0. 0. 0.]\n",
      " [0. 0. 0. 0. 0. 0. 0. 0. 0. 0. 0. 0. 0. 0. 0. 0. 0. 0. 0. 0.]\n",
      " [0. 0. 0. 0. 0. 0. 0. 0. 0. 0. 0. 0. 0. 0. 0. 0. 0. 0. 0. 0.]\n",
      " [0. 0. 0. 0. 0. 0. 0. 0. 0. 0. 0. 0. 0. 0. 0. 0. 0. 0. 0. 0.]\n",
      " [0. 0. 0. 0. 0. 0. 0. 0. 0. 0. 0. 0. 0. 0. 0. 0. 0. 0. 0. 0.]\n",
      " [0. 0. 0. 0. 0. 0. 0. 0. 0. 0. 0. 0. 0. 0. 0. 0. 0. 0. 0. 0.]\n",
      " [0. 0. 0. 0. 0. 0. 0. 0. 0. 0. 0. 0. 0. 0. 0. 0. 0. 0. 0. 0.]\n",
      " [0. 0. 0. 0. 0. 0. 0. 0. 0. 0. 0. 0. 0. 0. 0. 0. 0. 0. 0. 0.]\n",
      " [0. 0. 0. 0. 0. 0. 0. 0. 0. 0. 0. 0. 0. 0. 0. 0. 0. 0. 0. 0.]\n",
      " [0. 0. 0. 0. 0. 0. 0. 0. 0. 0. 0. 0. 0. 0. 0. 0. 0. 0. 0. 0.]\n",
      " [0. 0. 0. 0. 0. 0. 0. 0. 0. 0. 0. 0. 0. 0. 0. 0. 0. 0. 0. 0.]\n",
      " [0. 0. 0. 0. 0. 0. 0. 0. 0. 0. 0. 0. 0. 0. 0. 0. 0. 0. 0. 0.]\n",
      " [0. 0. 0. 0. 0. 0. 0. 0. 0. 0. 0. 0. 0. 0. 0. 0. 0. 0. 0. 0.]\n",
      " [0. 0. 0. 0. 0. 0. 0. 0. 0. 0. 0. 0. 0. 0. 0. 0. 0. 0. 0. 0.]]\n"
     ]
    }
   ],
   "source": [
    "print(\"reward matrix: \\n\", str(reward_matrix))\n",
    "print(\"rating matrix: \\n\", str(rating_matrix))"
   ]
  },
  {
   "cell_type": "markdown",
   "metadata": {
    "colab_type": "text",
    "id": "PZBJjLg-HfB2"
   },
   "source": [
    "# Embedding agent"
   ]
  },
  {
   "cell_type": "markdown",
   "metadata": {
    "colab_type": "text",
    "id": "XemXHceRHfB4"
   },
   "source": [
    "## Regression model"
   ]
  },
  {
   "cell_type": "code",
   "execution_count": 9,
   "metadata": {
    "colab": {},
    "colab_type": "code",
    "id": "mQJuXkFUHfB5"
   },
   "outputs": [],
   "source": [
    "class RegressionModel(Model):\n",
    "    def __init__(self, embedding_size, max_user, max_game):\n",
    "        super().__init__()\n",
    "        \n",
    "        self.user_embedding = Embedding(output_dim=embedding_size,\n",
    "                                        input_dim=max_user,\n",
    "                                        input_length=1,\n",
    "                                        name='user_embedding')\n",
    "        self.game_embedding = Embedding(output_dim=embedding_size,\n",
    "                                        input_dim=max_game,\n",
    "                                        input_length=1,\n",
    "                                        name='game_embedding')\n",
    "        self.flatten = Flatten()\n",
    "        self.dot = Dot(axes=1)\n",
    "        \n",
    "    def call(self, inputs):\n",
    "        user_inputs = inputs[0]\n",
    "        game_inputs = inputs[1]\n",
    "        \n",
    "        user_vecs = self.flatten(self.user_embedding(user_inputs))\n",
    "        game_vecs = self.flatten(self.game_embedding(game_inputs))\n",
    "        \n",
    "        y = self.dot([user_vecs, game_vecs])\n",
    "        return y"
   ]
  },
  {
   "cell_type": "markdown",
   "metadata": {
    "colab_type": "text",
    "id": "XgYL_hJzHfB8"
   },
   "source": [
    "## Deep regression model"
   ]
  },
  {
   "cell_type": "code",
   "execution_count": 10,
   "metadata": {
    "colab": {},
    "colab_type": "code",
    "id": "SuAR_07CHfB9"
   },
   "outputs": [],
   "source": [
    "class DeepRegressionModel(Model):\n",
    "\n",
    "    def __init__(self, embedding_size, max_user, max_game):\n",
    "        super().__init__()\n",
    "        \n",
    "        self.user_embedding = Embedding(output_dim=embedding_size,\n",
    "                                        input_dim=max_user,\n",
    "                                        input_length=1,\n",
    "                                        name='user_embedding')\n",
    "        self.game_embedding = Embedding(output_dim=embedding_size,\n",
    "                                        input_dim=max_game,\n",
    "                                        input_length=1,\n",
    "                                        name='game_embedding')\n",
    "        \n",
    "        self.flatten = Flatten()\n",
    "        self.concat = Concatenate()\n",
    "        \n",
    "        self.dropout = Dropout(0.9)\n",
    "        self.dense1 = Dense(16, activation=\"relu\")\n",
    "        self.dense2 = Dense(8, activation=\"tanh\")\n",
    "        \n",
    "    def call(self, inputs, training=False):\n",
    "        user_inputs = inputs[0]\n",
    "        game_inputs = inputs[1]\n",
    "        feature_inputs = inputs[2]\n",
    "        \n",
    "        user_vecs = self.flatten(self.user_embedding(user_inputs))\n",
    "        game_vecs = self.flatten(self.game_embedding(game_inputs))\n",
    "        \n",
    "        input_vecs = self.concat([user_vecs, game_vecs, self.flatten(feature_inputs)])\n",
    "        \n",
    "        y = self.dropout(input_vecs, training=training)\n",
    "        y = self.dense1(y)\n",
    "        y = self.dense2(y)\n",
    "        \n",
    "        return y"
   ]
  },
  {
   "cell_type": "markdown",
   "metadata": {
    "colab_type": "text",
    "id": "E2R81XNcHfCA"
   },
   "source": [
    "## Implementation"
   ]
  },
  {
   "cell_type": "code",
   "execution_count": 11,
   "metadata": {
    "colab": {},
    "colab_type": "code",
    "id": "7YB9b8t9HfCB"
   },
   "outputs": [],
   "source": [
    "class EmbeddingAgent:\n",
    "    def __init__(self, X, Y, deepRegression=False):\n",
    "        if deepRegression:\n",
    "            self._model = DeepRegressionModel(64, nb_users, nb_games)\n",
    "        else:\n",
    "            self._model = RegressionModel(64, nb_users, nb_games)\n",
    "        self._model.compile(optimizer=\"adam\", loss='mae')\n",
    "        self._model.fit(X, Y,\n",
    "                  batch_size=64, epochs=40, validation_split=0.1,\n",
    "                  shuffle=True)\n",
    "        self._user_embeddings = self._model.get_weights()[0]\n",
    "        self._game_embeddings = self._model.get_weights()[1]\n",
    "    \n",
    "    def act(self, user, available_games):\n",
    "        user_embedding = self._user_embeddings[user]\n",
    "        dot_products = self._game_embeddings @ user_embedding\n",
    "        user_embedding_norm = np.linalg.norm(user_embedding)\n",
    "        all_item_norms = np.linalg.norm(self._game_embeddings, axis=1)\n",
    "        norm_products = user_embedding_norm * all_item_norms\n",
    "        sims = dot_products / (norm_products)\n",
    "        sims = np.argsort(sims)[::-1]\n",
    "        mask = np.in1d(sims, available_games)\n",
    "        sims = sims[mask]\n",
    "        return sims[0]\n",
    "\n",
    "    def update(self, user, game, rating):\n",
    "        pass\n",
    "\n",
    "    def reset(self):\n",
    "        pass"
   ]
  },
  {
   "cell_type": "code",
   "execution_count": 12,
   "metadata": {
    "colab": {
     "base_uri": "https://localhost:8080/",
     "height": 1000
    },
    "colab_type": "code",
    "id": "J3R2pPjNHfCF",
    "outputId": "36add114-ad56-41dd-8d6d-b9b78ca0e92c"
   },
   "outputs": [
    {
     "name": "stdout",
     "output_type": "stream",
     "text": [
      "Train on 270 samples, validate on 30 samples\n",
      "Epoch 1/40\n",
      "270/270 [==============================] - 0s 306us/sample - loss: 0.3422 - val_loss: 0.3398\n",
      "Epoch 2/40\n",
      "270/270 [==============================] - 0s 169us/sample - loss: 0.3394 - val_loss: 0.3397\n",
      "Epoch 3/40\n",
      "270/270 [==============================] - 0s 170us/sample - loss: 0.3373 - val_loss: 0.3396\n",
      "Epoch 4/40\n",
      "270/270 [==============================] - 0s 177us/sample - loss: 0.3353 - val_loss: 0.3395\n",
      "Epoch 5/40\n",
      "270/270 [==============================] - 0s 165us/sample - loss: 0.3334 - val_loss: 0.3392\n",
      "Epoch 6/40\n",
      "270/270 [==============================] - 0s 182us/sample - loss: 0.3313 - val_loss: 0.3388\n",
      "Epoch 7/40\n",
      "270/270 [==============================] - 0s 230us/sample - loss: 0.3290 - val_loss: 0.3385\n",
      "Epoch 8/40\n",
      "270/270 [==============================] - 0s 254us/sample - loss: 0.3266 - val_loss: 0.3379\n",
      "Epoch 9/40\n",
      "270/270 [==============================] - 0s 240us/sample - loss: 0.3239 - val_loss: 0.3374\n",
      "Epoch 10/40\n",
      "270/270 [==============================] - 0s 238us/sample - loss: 0.3209 - val_loss: 0.3366\n",
      "Epoch 11/40\n",
      "270/270 [==============================] - 0s 244us/sample - loss: 0.3175 - val_loss: 0.3357\n",
      "Epoch 12/40\n",
      "270/270 [==============================] - 0s 235us/sample - loss: 0.3140 - val_loss: 0.3346\n",
      "Epoch 13/40\n",
      "270/270 [==============================] - 0s 299us/sample - loss: 0.3100 - val_loss: 0.3333\n",
      "Epoch 14/40\n",
      "270/270 [==============================] - 0s 236us/sample - loss: 0.3057 - val_loss: 0.3317\n",
      "Epoch 15/40\n",
      "270/270 [==============================] - 0s 235us/sample - loss: 0.3012 - val_loss: 0.3298\n",
      "Epoch 16/40\n",
      "270/270 [==============================] - 0s 231us/sample - loss: 0.2961 - val_loss: 0.3280\n",
      "Epoch 17/40\n",
      "270/270 [==============================] - 0s 232us/sample - loss: 0.2910 - val_loss: 0.3260\n",
      "Epoch 18/40\n",
      "270/270 [==============================] - 0s 219us/sample - loss: 0.2857 - val_loss: 0.3236\n",
      "Epoch 19/40\n",
      "270/270 [==============================] - 0s 198us/sample - loss: 0.2800 - val_loss: 0.3214\n",
      "Epoch 20/40\n",
      "270/270 [==============================] - 0s 167us/sample - loss: 0.2740 - val_loss: 0.3199\n",
      "Epoch 21/40\n",
      "270/270 [==============================] - 0s 167us/sample - loss: 0.2677 - val_loss: 0.3179\n",
      "Epoch 22/40\n",
      "270/270 [==============================] - 0s 170us/sample - loss: 0.2611 - val_loss: 0.3160\n",
      "Epoch 23/40\n",
      "270/270 [==============================] - 0s 178us/sample - loss: 0.2543 - val_loss: 0.3142\n",
      "Epoch 24/40\n",
      "270/270 [==============================] - 0s 229us/sample - loss: 0.2466 - val_loss: 0.3121\n",
      "Epoch 25/40\n",
      "270/270 [==============================] - 0s 243us/sample - loss: 0.2388 - val_loss: 0.3104\n",
      "Epoch 26/40\n",
      "270/270 [==============================] - 0s 221us/sample - loss: 0.2303 - val_loss: 0.3091\n",
      "Epoch 27/40\n",
      "270/270 [==============================] - 0s 227us/sample - loss: 0.2215 - val_loss: 0.3076\n",
      "Epoch 28/40\n",
      "270/270 [==============================] - 0s 237us/sample - loss: 0.2131 - val_loss: 0.3059\n",
      "Epoch 29/40\n",
      "270/270 [==============================] - 0s 224us/sample - loss: 0.2047 - val_loss: 0.3048\n",
      "Epoch 30/40\n",
      "270/270 [==============================] - 0s 222us/sample - loss: 0.1966 - val_loss: 0.3037\n",
      "Epoch 31/40\n",
      "270/270 [==============================] - 0s 203us/sample - loss: 0.1891 - val_loss: 0.3025\n",
      "Epoch 32/40\n",
      "270/270 [==============================] - 0s 248us/sample - loss: 0.1808 - val_loss: 0.3010\n",
      "Epoch 33/40\n",
      "270/270 [==============================] - 0s 269us/sample - loss: 0.1729 - val_loss: 0.2992\n",
      "Epoch 34/40\n",
      "270/270 [==============================] - 0s 230us/sample - loss: 0.1648 - val_loss: 0.2977\n",
      "Epoch 35/40\n",
      "270/270 [==============================] - 0s 219us/sample - loss: 0.1567 - val_loss: 0.2975\n",
      "Epoch 36/40\n",
      "270/270 [==============================] - 0s 230us/sample - loss: 0.1489 - val_loss: 0.2981\n",
      "Epoch 37/40\n",
      "270/270 [==============================] - 0s 223us/sample - loss: 0.1408 - val_loss: 0.2982\n",
      "Epoch 38/40\n",
      "270/270 [==============================] - 0s 223us/sample - loss: 0.1327 - val_loss: 0.2979\n",
      "Epoch 39/40\n",
      "270/270 [==============================] - 0s 217us/sample - loss: 0.1242 - val_loss: 0.2971\n",
      "Epoch 40/40\n",
      "270/270 [==============================] - 0s 223us/sample - loss: 0.1164 - val_loss: 0.2969\n",
      "WARNING:tensorflow:Large dropout rate: 0.9 (>0.5). In TensorFlow 2.x, dropout() uses dropout rate instead of keep_prob. Please ensure that this is intended.\n",
      "Train on 270 samples, validate on 30 samples\n",
      "Epoch 1/40\n",
      "WARNING:tensorflow:Large dropout rate: 0.9 (>0.5). In TensorFlow 2.x, dropout() uses dropout rate instead of keep_prob. Please ensure that this is intended.\n",
      " 64/270 [======>.......................] - ETA: 0s - loss: 0.4396WARNING:tensorflow:Large dropout rate: 0.9 (>0.5). In TensorFlow 2.x, dropout() uses dropout rate instead of keep_prob. Please ensure that this is intended.\n",
      "WARNING:tensorflow:Large dropout rate: 0.9 (>0.5). In TensorFlow 2.x, dropout() uses dropout rate instead of keep_prob. Please ensure that this is intended.\n",
      "WARNING:tensorflow:Large dropout rate: 0.9 (>0.5). In TensorFlow 2.x, dropout() uses dropout rate instead of keep_prob. Please ensure that this is intended.\n",
      "270/270 [==============================] - 0s 610us/sample - loss: 0.4332 - val_loss: 0.3534\n",
      "Epoch 2/40\n",
      "270/270 [==============================] - 0s 318us/sample - loss: 0.4301 - val_loss: 0.3394\n",
      "Epoch 3/40\n",
      "270/270 [==============================] - 0s 265us/sample - loss: 0.4301 - val_loss: 0.3264\n",
      "Epoch 4/40\n",
      "270/270 [==============================] - 0s 268us/sample - loss: 0.4142 - val_loss: 0.3160\n",
      "Epoch 5/40\n",
      "270/270 [==============================] - 0s 303us/sample - loss: 0.4113 - val_loss: 0.3085\n",
      "Epoch 6/40\n",
      "270/270 [==============================] - 0s 301us/sample - loss: 0.4005 - val_loss: 0.3023\n",
      "Epoch 7/40\n",
      "270/270 [==============================] - 0s 243us/sample - loss: 0.4071 - val_loss: 0.2966\n",
      "Epoch 8/40\n",
      "270/270 [==============================] - 0s 245us/sample - loss: 0.3708 - val_loss: 0.2926\n",
      "Epoch 9/40\n",
      "270/270 [==============================] - 0s 255us/sample - loss: 0.3871 - val_loss: 0.2898\n",
      "Epoch 10/40\n",
      "270/270 [==============================] - 0s 248us/sample - loss: 0.3872 - val_loss: 0.2872\n",
      "Epoch 11/40\n",
      "270/270 [==============================] - 0s 245us/sample - loss: 0.3902 - val_loss: 0.2851\n",
      "Epoch 12/40\n",
      "270/270 [==============================] - 0s 234us/sample - loss: 0.3789 - val_loss: 0.2836\n",
      "Epoch 13/40\n",
      "270/270 [==============================] - 0s 237us/sample - loss: 0.3701 - val_loss: 0.2828\n",
      "Epoch 14/40\n",
      "270/270 [==============================] - 0s 243us/sample - loss: 0.3670 - val_loss: 0.2823\n",
      "Epoch 15/40\n",
      "270/270 [==============================] - 0s 263us/sample - loss: 0.3353 - val_loss: 0.2812\n",
      "Epoch 16/40\n",
      "270/270 [==============================] - 0s 256us/sample - loss: 0.3541 - val_loss: 0.2792\n",
      "Epoch 17/40\n",
      "270/270 [==============================] - 0s 249us/sample - loss: 0.3376 - val_loss: 0.2779\n",
      "Epoch 18/40\n",
      "270/270 [==============================] - 0s 235us/sample - loss: 0.3461 - val_loss: 0.2766\n",
      "Epoch 19/40\n",
      "270/270 [==============================] - 0s 238us/sample - loss: 0.3309 - val_loss: 0.2755\n",
      "Epoch 20/40\n",
      "270/270 [==============================] - 0s 273us/sample - loss: 0.3421 - val_loss: 0.2746\n",
      "Epoch 21/40\n",
      "270/270 [==============================] - 0s 324us/sample - loss: 0.3440 - val_loss: 0.2742\n",
      "Epoch 22/40\n",
      "270/270 [==============================] - 0s 319us/sample - loss: 0.3452 - val_loss: 0.2737\n",
      "Epoch 23/40\n",
      "270/270 [==============================] - 0s 258us/sample - loss: 0.3414 - val_loss: 0.2736\n",
      "Epoch 24/40\n",
      "270/270 [==============================] - 0s 238us/sample - loss: 0.3154 - val_loss: 0.2737\n",
      "Epoch 25/40\n",
      "270/270 [==============================] - 0s 245us/sample - loss: 0.3327 - val_loss: 0.2735\n",
      "Epoch 26/40\n",
      "270/270 [==============================] - 0s 344us/sample - loss: 0.3317 - val_loss: 0.2732\n",
      "Epoch 27/40\n",
      "270/270 [==============================] - 0s 322us/sample - loss: 0.3198 - val_loss: 0.2723\n",
      "Epoch 28/40\n",
      "270/270 [==============================] - 0s 285us/sample - loss: 0.3147 - val_loss: 0.2716\n",
      "Epoch 29/40\n",
      "270/270 [==============================] - 0s 239us/sample - loss: 0.3226 - val_loss: 0.2713\n",
      "Epoch 30/40\n"
     ]
    },
    {
     "name": "stdout",
     "output_type": "stream",
     "text": [
      "270/270 [==============================] - 0s 229us/sample - loss: 0.3158 - val_loss: 0.2709\n",
      "Epoch 31/40\n",
      "270/270 [==============================] - 0s 255us/sample - loss: 0.3244 - val_loss: 0.2706\n",
      "Epoch 32/40\n",
      "270/270 [==============================] - 0s 242us/sample - loss: 0.3063 - val_loss: 0.2707\n",
      "Epoch 33/40\n",
      "270/270 [==============================] - 0s 231us/sample - loss: 0.2909 - val_loss: 0.2708\n",
      "Epoch 34/40\n",
      "270/270 [==============================] - 0s 236us/sample - loss: 0.3026 - val_loss: 0.2707\n",
      "Epoch 35/40\n",
      "270/270 [==============================] - 0s 238us/sample - loss: 0.3052 - val_loss: 0.2709\n",
      "Epoch 36/40\n",
      "270/270 [==============================] - 0s 235us/sample - loss: 0.3029 - val_loss: 0.2708\n",
      "Epoch 37/40\n",
      "270/270 [==============================] - 0s 217us/sample - loss: 0.2941 - val_loss: 0.2704\n",
      "Epoch 38/40\n",
      "270/270 [==============================] - 0s 240us/sample - loss: 0.2876 - val_loss: 0.2697\n",
      "Epoch 39/40\n",
      "270/270 [==============================] - 0s 240us/sample - loss: 0.2812 - val_loss: 0.2691\n",
      "Epoch 40/40\n",
      "270/270 [==============================] - 0s 248us/sample - loss: 0.2909 - val_loss: 0.2689\n"
     ]
    }
   ],
   "source": [
    "users = np.array(users)\n",
    "games = np.array(games)\n",
    "rewards = np.array(rewards)\n",
    "\n",
    "agents[\"reg\"] = EmbeddingAgent([users, games], rewards, deepRegression=False)\n",
    "\n",
    "features = list()\n",
    "for i in range(len(users)):\n",
    "    features.append(env.get_feature_vector(users[i], games[i]))\n",
    "features = np.float64(features)\n",
    "agents[\"deep_reg\"] = EmbeddingAgent([users, games, features], rewards, deepRegression=True)"
   ]
  },
  {
   "cell_type": "markdown",
   "metadata": {
    "colab_type": "text",
    "id": "b2m-zKdtHfCJ"
   },
   "source": [
    "# User-based collaborative filtering agent"
   ]
  },
  {
   "cell_type": "markdown",
   "metadata": {
    "colab_type": "text",
    "id": "RaHY-WbyHfCK"
   },
   "source": [
    "## Defining similarity between users"
   ]
  },
  {
   "cell_type": "code",
   "execution_count": 13,
   "metadata": {
    "colab": {},
    "colab_type": "code",
    "id": "BcbxW-jnHfCL"
   },
   "outputs": [],
   "source": [
    "def similarity(ratings):\n",
    "    # get the rewards for each user\n",
    "    r_user = (ratings>0.0).sum(axis=1)\n",
    "    \n",
    "    # get the average reward for each user\n",
    "    m_user = np.divide(ratings.sum(axis=1) , r_user, where=r_user!=0)\n",
    "    \n",
    "    # recentered rewards over user's average\n",
    "    ratings_ctr = ratings.T - ((ratings.T!=0) * m_user)\n",
    "    ratings_ctr = ratings_ctr.T\n",
    "    \n",
    "    # Gram's matrix\n",
    "    sim = ratings_ctr.dot(ratings_ctr.T) \n",
    "    \n",
    "    return sim\n",
    "\n",
    "def phi(x):\n",
    "    return np.maximum(x,0)"
   ]
  },
  {
   "cell_type": "markdown",
   "metadata": {
    "colab_type": "text",
    "id": "q81VxSpaHfCP"
   },
   "source": [
    "## Implementation"
   ]
  },
  {
   "cell_type": "code",
   "execution_count": 14,
   "metadata": {
    "colab": {},
    "colab_type": "code",
    "id": "lxw9KnbdHfCQ"
   },
   "outputs": [],
   "source": [
    "class CollaborativeFilteringAgent:\n",
    "    def __init__(self, nb_users, nb_games, rating_matrix = None):\n",
    "        self._nb_users = nb_users\n",
    "        self._nb_games = nb_games\n",
    "        self.reset(rating_matrix)\n",
    "    \n",
    "    def compute_matrix(self):\n",
    "        sim = similarity(self._rating_matrix)\n",
    "        numerator = phi(sim).dot(self._rating_matrix)\n",
    "        denominator = phi(sim).dot(self._rating_matrix>0)\n",
    "        self._pred_ratings = np.divide(numerator,denominator,where = denominator!=0)\n",
    "    \n",
    "    def update(self, user, game, rating):\n",
    "        self._rating_matrix[user, game] = rating\n",
    "        self.compute_matrix()\n",
    "    \n",
    "    def act(self, user, available_games):\n",
    "        sims = self._pred_ratings[user]\n",
    "        sims = np.argsort(sims)[::-1]\n",
    "        mask = np.in1d(sims, available_games)\n",
    "        sims = sims[mask]\n",
    "        return sims[0]\n",
    "    \n",
    "    def reset(self, rating_matrix = None):\n",
    "        if rating_matrix == None:\n",
    "            self._rating_matrix = np.zeros((self._nb_users, self._nb_games))\n",
    "        else:\n",
    "            self._rating_matrix = rating_matrix\n",
    "        self.compute_matrix()"
   ]
  },
  {
   "cell_type": "code",
   "execution_count": 15,
   "metadata": {
    "colab": {},
    "colab_type": "code",
    "id": "qZGG6eSwHfCT"
   },
   "outputs": [],
   "source": [
    "agents[\"collab_filt\"] = CollaborativeFilteringAgent(nb_users, nb_games)"
   ]
  },
  {
   "cell_type": "markdown",
   "metadata": {
    "colab_type": "text",
    "id": "4-usqDuwHfCW"
   },
   "source": [
    "# $\\varepsilon$-greedy agent"
   ]
  },
  {
   "cell_type": "code",
   "execution_count": 16,
   "metadata": {
    "colab": {},
    "colab_type": "code",
    "id": "cAGa1IF5HfCX"
   },
   "outputs": [],
   "source": [
    "def random_argmax(rng, list_):\n",
    "    return rng.choice(np.argwhere(list_ == list_.max()).flatten())\n",
    "\n",
    "class EpsilonGreedy:\n",
    "    def __init__(self, nb_games, epsilon = 0.1, seed=None):\n",
    "        self._nb_arms = nb_games\n",
    "        self._epsilon = epsilon\n",
    "        self.reset(seed)\n",
    "        \n",
    "    def act(self, _1, _2):\n",
    "        if self._rng.random() < self._epsilon:\n",
    "            action = self._rng.randint(self._nb_arms)\n",
    "        else:\n",
    "            action = random_argmax(self._rng, self._q)\n",
    "        return action\n",
    "        \n",
    "    def update(self, _, action, reward):\n",
    "        self._n[action] += 1\n",
    "        self._q[action] += (reward - self._q[action])/self._n[action]\n",
    "        \n",
    "    def reset(self, seed=None):\n",
    "        self._rng = np.random.RandomState(seed)\n",
    "        self._q = np.zeros(self._nb_arms)\n",
    "        self._n = np.zeros(self._nb_arms)"
   ]
  },
  {
   "cell_type": "code",
   "execution_count": 17,
   "metadata": {
    "colab": {},
    "colab_type": "code",
    "id": "OjhL1GEgHfCc"
   },
   "outputs": [],
   "source": [
    "agents[\"eps\"] = EpsilonGreedy(nb_games)"
   ]
  },
  {
   "cell_type": "markdown",
   "metadata": {
    "colab_type": "text",
    "id": "FeGOQkAlHfCh"
   },
   "source": [
    "# UCB agent"
   ]
  },
  {
   "cell_type": "code",
   "execution_count": 18,
   "metadata": {
    "colab": {},
    "colab_type": "code",
    "id": "EOu1o_4qHfCi"
   },
   "outputs": [],
   "source": [
    "class UCB:\n",
    "    def __init__(self, nb_games, c=2., seed=None):\n",
    "        self._nb_arms = nb_games\n",
    "        self._c = c\n",
    "        self.reset(seed)\n",
    "        \n",
    "    def act(self, _1, _2):\n",
    "        if 0 in self._n:\n",
    "            \"\"\" Play each action at least once. \"\"\"\n",
    "            action = self._rng.choice(np.where(self._n==0)[0])\n",
    "        else:\n",
    "            action = np.argmax(self._q + \n",
    "                               np.sqrt(self._c * np.log(self._t) / self._n))\n",
    "            \n",
    "        return action\n",
    "        \n",
    "    def update(self, _, action, reward):\n",
    "        self._t += 1\n",
    "        self._n[action] += 1\n",
    "        self._q[action] += (reward - self._q[action])/self._n[action]\n",
    "\n",
    "    def reset(self, seed=None):\n",
    "        self._rng = np.random.RandomState(seed)\n",
    "        self._q = np.zeros(self._nb_arms)\n",
    "        self._n = np.zeros(self._nb_arms)\n",
    "        self._t = 0"
   ]
  },
  {
   "cell_type": "code",
   "execution_count": 19,
   "metadata": {
    "colab": {},
    "colab_type": "code",
    "id": "Hz3EgBUGHfCl"
   },
   "outputs": [],
   "source": [
    "agents[\"ucb\"] = UCB(nb_games)"
   ]
  },
  {
   "cell_type": "markdown",
   "metadata": {
    "colab_type": "text",
    "id": "9IRfBWQ9HfCn"
   },
   "source": [
    "# Thompson sampling agent"
   ]
  },
  {
   "cell_type": "code",
   "execution_count": 20,
   "metadata": {
    "colab": {},
    "colab_type": "code",
    "id": "PDH3FFuBHfCo"
   },
   "outputs": [],
   "source": [
    "class BetaBernoulli(object):\n",
    "    def __init__(self, a=1, b=1, prior=np.ones(2)):\n",
    "        self.a = a\n",
    "        self.b = b\n",
    "        self.n = copy(prior)\n",
    "\n",
    "    def update(self, reward):\n",
    "        self.n[int(reward)] += 1\n",
    "\n",
    "    def sample(self, np_random):\n",
    "        return np_random.beta(self.a + self.n[1], self.b + self.n[0])\n",
    "\n",
    "class ThompsonSampling:\n",
    "    def __init__(self, nb_games, dist=BetaBernoulli, seed=None):\n",
    "        self._nb_arms = nb_games\n",
    "        self.reset(seed, dist)\n",
    "        \n",
    "    def act(self, _1, _2):\n",
    "        sample = np.array([self._posterior[i].sample(self._rng)\n",
    "                           for i in range(self._nb_arms)])\n",
    "        action = np.argmax(sample)\n",
    "        return action\n",
    "        \n",
    "    def update(self, _, action, reward):\n",
    "        self._posterior[action].update(reward)\n",
    "        \n",
    "    def reset(self, seed=None, dist=BetaBernoulli):\n",
    "        self._rng = np.random.RandomState(seed)\n",
    "        self._posterior = [dist() for i in range(self._nb_arms)]"
   ]
  },
  {
   "cell_type": "code",
   "execution_count": 21,
   "metadata": {
    "colab": {},
    "colab_type": "code",
    "id": "QWLHqAltHfCr"
   },
   "outputs": [],
   "source": [
    "agents[\"thompson\"] = ThompsonSampling(nb_games)"
   ]
  },
  {
   "cell_type": "markdown",
   "metadata": {},
   "source": [
    "# SVD++ agent"
   ]
  },
  {
   "cell_type": "code",
   "execution_count": 22,
   "metadata": {},
   "outputs": [],
   "source": [
    "from surprise import SVDpp, Dataset, Reader\n",
    "from surprise.model_selection import cross_validate\n",
    "from surprise.model_selection import GridSearchCV\n",
    "import pandas as pd\n",
    "\n",
    "class SVD_pp:\n",
    "    def __init__(self, X, Y, nb_games):\n",
    "        self._users = X[0]\n",
    "        self._games = X[1]\n",
    "        self._rewards = Y\n",
    "        self._nb_games = nb_games\n",
    "        df = pd.DataFrame(self._games, columns=['games'])\n",
    "        df['users'] = self._users\n",
    "        df['rewards'] = self._rewards\n",
    "        reader = Reader(rating_scale=(0, 1))\n",
    "        self._data = Dataset.load_from_df(df[['users', 'games', 'rewards']], reader)\n",
    "        self._trainset = self._data.build_full_trainset()\n",
    "        self.reset()\n",
    "        \n",
    "    def update(self, user, game, rating):\n",
    "        pass\n",
    "    \n",
    "    def act(self, user, available_games):\n",
    "        rewards = list()\n",
    "        for i in range(self._nb_games):\n",
    "            rewards.append(self._svd_pp.predict(user, i).est)\n",
    "        \n",
    "        sorted_rewards = np.argsort(rewards)[::-1]\n",
    "        mask = np.in1d(sorted_rewards, available_games)\n",
    "        sorted_rewards = sorted_rewards[mask]\n",
    "        return sorted_rewards[0]\n",
    "    \n",
    "    def reset(self):       \n",
    "        param_grid = {'n_epochs': [5, 10, 50, 100], \n",
    "                      'lr_all': [0.002, 0.005, 0.007],\n",
    "                      'reg_all': [0.02, 0.4, 0.6]}\n",
    "        gs = GridSearchCV(SVDpp, param_grid, measures=['rmse'], cv=5, n_jobs=-1)\n",
    "        gs.fit(self._data)\n",
    "        best_predictor = gs.best_estimator['rmse']\n",
    "        \n",
    "        self._svd_pp = best_predictor.fit(self._trainset)"
   ]
  },
  {
   "cell_type": "code",
   "execution_count": 23,
   "metadata": {},
   "outputs": [],
   "source": [
    "agents['svd_pp'] = SVD_pp([users, games], rewards, nb_games)"
   ]
  },
  {
   "cell_type": "markdown",
   "metadata": {
    "colab_type": "text",
    "id": "upzTdOugHfCu"
   },
   "source": [
    "# Measuring performances"
   ]
  },
  {
   "cell_type": "code",
   "execution_count": 24,
   "metadata": {
    "colab": {},
    "colab_type": "code",
    "id": "VVXRdfQjHfCv"
   },
   "outputs": [],
   "source": [
    "empty_history = True\n",
    "if not empty_history:\n",
    "    prev_env = deepcopy(env)"
   ]
  },
  {
   "cell_type": "code",
   "execution_count": 26,
   "metadata": {
    "colab": {
     "base_uri": "https://localhost:8080/",
     "height": 928
    },
    "colab_type": "code",
    "id": "9HBGdoP1HfC1",
    "outputId": "816bb64a-044d-4ad4-fd8e-eefc7e0fdcd5"
   },
   "outputs": [
    {
     "data": {
      "image/png": "[encoded data removed]",
      "text/plain": [
       "<Figure size 1500x1000 with 1 Axes>"
      ]
     },
     "metadata": {
      "needs_background": "light"
     },
     "output_type": "display_data"
    }
   ],
   "source": [
    "nb_iteration = 700\n",
    "nb_exp = 20\n",
    "\n",
    "plt.figure(dpi=250)\n",
    "for name_agent in agents:\n",
    "    agent = agents[name_agent]\n",
    "    regret = np.zeros(nb_exp)\n",
    "    cum_regret = np.zeros((nb_exp, nb_iteration))\n",
    "\n",
    "    for t in range(nb_exp):\n",
    "        env = deepcopy(prev_env)\n",
    "        env.reset_seed()\n",
    "        regrets = np.zeros(nb_iteration)\n",
    "        for i in range(nb_iteration):\n",
    "            user, available_games, optimal_reward, finish = env.step()\n",
    "            if finish:\n",
    "                print(\"Maybe too many trial try to reduce and reset the environment\")\n",
    "                break\n",
    "            choosen_game = agent.act(user, available_games)\n",
    "            reward = env.update(user, choosen_game)\n",
    "            agent.update(user, choosen_game, reward)\n",
    "            regrets[i] = optimal_reward - reward\n",
    "        agent.reset()\n",
    "        cum_regret[t] = np.cumsum(regrets)\n",
    "        regret[t] = np.sum(regrets)\n",
    "    plt.plot(cum_regret.mean(axis=0), label=name_agent)\n",
    "plt.xlabel('steps')\n",
    "plt.ylabel('regret')\n",
    "plt.legend()    \n",
    "plt.show()"
   ]
  },
  {
   "cell_type": "code",
   "execution_count": null,
   "metadata": {
    "colab": {},
    "colab_type": "code",
    "id": "YpcLLkbsHfC5"
   },
   "outputs": [],
   "source": []
  },
  {
   "cell_type": "code",
   "execution_count": null,
   "metadata": {},
   "outputs": [],
   "source": []
  }
 ],
 "metadata": {
  "colab": {
   "name": "Steam (Env - Agent).ipynb",
   "provenance": []
  },
  "kernelspec": {
   "display_name": "Python 3",
   "language": "python",
   "name": "python3"
  },
  "language_info": {
   "codemirror_mode": {
    "name": "ipython",
    "version": 3
   },
   "file_extension": ".py",
   "mimetype": "text/x-python",
   "name": "python",
   "nbconvert_exporter": "python",
   "pygments_lexer": "ipython3",
   "version": "3.7.4"
  },
  "pycharm": {
   "stem_cell": {
    "cell_type": "raw",
    "metadata": {
     "collapsed": false
    },
    "source": []
   }
  }
 },
 "nbformat": 4,
 "nbformat_minor": 1
}
