{
 "cells": [
  {
   "cell_type": "markdown",
   "metadata": {},
   "source": [
    "## Agent\n",
    "Here we create a very basic agent that will choose a film among the ones proposed, at random."
   ]
  },
  {
   "cell_type": "code",
   "execution_count": null,
   "metadata": {},
   "outputs": [],
   "source": [
    "# Basic import\n",
    "%matplotlib inline\n",
    "import numpy as np\n",
    "import matplotlib.pyplot as plt\n",
    "from copy import copy, deepcopy\n",
    "from scipy.stats import invgamma, gamma\n",
    "from scipy.stats import t as student"
   ]
  },
  {
   "cell_type": "code",
   "execution_count": null,
   "metadata": {},
   "outputs": [],
   "source": [
    "class RandomAgent:\n",
    "    \"\"\" Random agent. \"\"\"\n",
    "    def __init__(self):\n",
    "            pass\n",
    "        \n",
    "    def act(self, user_id, recommended_films):\n",
    "        action = self._rng.choice(recommended_films)\n",
    "        return action"
   ]
  },
  {
   "cell_type": "code",
   "execution_count": null,
   "metadata": {},
   "outputs": [],
   "source": [
    "#Basic parameter\n",
    "\n",
    "nb_users = 10 #number of users in the context\n",
    "nb_films = 10 #number of films in the context\n",
    "nb_features = 100 #number of different film categories\n",
    "nb_iteration = 20 #how many trials"
   ]
  },
  {
   "cell_type": "code",
   "execution_count": null,
   "metadata": {},
   "outputs": [],
   "source": [
    "#Creating the environment\n",
    "\n",
    "env = CMAB(nb_films,nb_users,nb_features)\n",
    "env.reset() #reset and initilize the environment"
   ]
  },
  {
   "cell_type": "code",
   "execution_count": null,
   "metadata": {},
   "outputs": [],
   "source": [
    "#creating the agent\n",
    "\n",
    "agent = RandomAgent()"
   ]
  },
  {
   "cell_type": "code",
   "execution_count": null,
   "metadata": {},
   "outputs": [],
   "source": [
    "#running several trials\n",
    "\n",
    "for  in range(nb_iteration):\n",
    "    user_id,recommended_films = env.step()\n",
    "    choosen_film = agent.act(user_id,recommended_films)\n",
    "    print(\"user_id ={},recommended_films = {},choosen_film = {}\".format(user_id,recommended_films,choosen_film))\n",
    "    reward = env.update(user_id, choosen_film)\n",
    "    print(\"reward = {}\\n\".format(reward))\n"
   ]
  }
 ],
 "metadata": {
  "kernelspec": {
   "display_name": "Python 3",
   "language": "python",
   "name": "python3"
  },
  "language_info": {
   "codemirror_mode": {
    "name": "ipython",
    "version": 3
   },
   "file_extension": ".py",
   "mimetype": "text/x-python",
   "name": "python",
   "nbconvert_exporter": "python",
   "pygments_lexer": "ipython3",
   "version": "3.7.6"
  }
 },
 "nbformat": 4,
 "nbformat_minor": 2
}
